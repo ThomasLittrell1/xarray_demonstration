{
 "cells": [
  {
   "cell_type": "markdown",
   "metadata": {},
   "source": [
    "# xarray in 5 minutes\n",
    "\n",
    "## Or how to make your numpy code readable while saving yourself time\n",
    "\n",
    "xarray adds a metadata layer on top of numpy arrays that makes doing calculations much easier. The package has two core data structures -- the DataArray and the Dataset that are, respecitvely, abstractions of numpy arrays and pandas data frames. We'll focus on DataArrays today.\n",
    "\n",
    "## DataArray\n",
    "Anywhere you would use a numpy array, you can use a DataArray and get readability benefits"
   ]
  },
  {
   "cell_type": "code",
   "execution_count": 2,
   "metadata": {},
   "outputs": [
    {
     "name": "stderr",
     "output_type": "stream",
     "text": [
      "/Users/thomas_littrell/anaconda3/lib/python3.7/site-packages/dask/config.py:168: YAMLLoadWarning: calling yaml.load() without Loader=... is deprecated, as the default Loader is unsafe. Please read https://msg.pyyaml.org/load for full details.\n",
      "  data = yaml.load(f.read()) or {}\n",
      "/Users/thomas_littrell/anaconda3/lib/python3.7/site-packages/distributed/config.py:20: YAMLLoadWarning: calling yaml.load() without Loader=... is deprecated, as the default Loader is unsafe. Please read https://msg.pyyaml.org/load for full details.\n",
      "  defaults = yaml.load(f)\n"
     ]
    }
   ],
   "source": [
    "import numpy as np\n",
    "import pandas as pd\n",
    "import xarray as xr\n",
    "\n",
    "from IPython.core.interactiveshell import InteractiveShell\n",
    "InteractiveShell.ast_node_interactivity = \"all\""
   ]
  },
  {
   "cell_type": "markdown",
   "metadata": {},
   "source": [
    "Imagine having data about how peoples' income breaks down between consumption and savings in every year of their 55 year lives for 12 income cohorts."
   ]
  },
  {
   "cell_type": "code",
   "execution_count": 3,
   "metadata": {},
   "outputs": [
    {
     "data": {
      "text/plain": [
       "<xarray.DataArray (time: 55, cohort: 12, item: 2)>\n",
       "array([[[ 0.603666,  1.010704],\n",
       "        [-1.196699, -0.346329],\n",
       "        ...,\n",
       "        [-0.106378,  0.194449],\n",
       "        [-0.660774,  2.129403]],\n",
       "\n",
       "       [[-2.549262, -0.108783],\n",
       "        [-0.111364, -0.267842],\n",
       "        ...,\n",
       "        [-0.491312, -0.087399],\n",
       "        [-0.576834, -0.206627]],\n",
       "\n",
       "       ...,\n",
       "\n",
       "       [[ 0.457655,  1.048237],\n",
       "        [-0.439872,  1.021856],\n",
       "        ...,\n",
       "        [-0.022706, -0.470221],\n",
       "        [ 1.321579,  0.224391]],\n",
       "\n",
       "       [[-0.099386,  0.120204],\n",
       "        [ 1.357281, -0.140589],\n",
       "        ...,\n",
       "        [ 0.741628,  1.503845],\n",
       "        [-2.244713,  0.119958]]])\n",
       "Coordinates:\n",
       "  * item     (item) <U11 'consumption' 'savings'\n",
       "Dimensions without coordinates: time, cohort"
      ]
     },
     "execution_count": 3,
     "metadata": {},
     "output_type": "execute_result"
    }
   ],
   "source": [
    "lifespan = 55\n",
    "cohorts = 12\n",
    "items = 2\n",
    "income = xr.DataArray(np.random.normal(0,1,(lifespan, cohorts, items)), dims=[\"time\",\"cohort\",\"item\"], coords={\"item\":[\"consumption\",\"savings\"]})\n",
    "income"
   ]
  },
  {
   "cell_type": "markdown",
   "metadata": {},
   "source": [
    "DataArrays add two main concepts on top of numpy arrays:\n",
    "1. Dimensions -- names for the axes of an array\n",
    "2. Coordinates -- indices within a dimension that can be used to select parts of an array with Pandas-like syntax\n",
    "Note that we do not have to provide coordinates for every dimension. In the example above, only the `item` dimension has coordinates."
   ]
  },
  {
   "cell_type": "markdown",
   "metadata": {},
   "source": [
    "The major benefit of DataArrays is that they make the intent of calculations clear for the reader. We might, for example, want to calculate the average savings across cohorts in every year. Xarray syntax doesn't require you to remember what axis or index corresponds to each concept."
   ]
  },
  {
   "cell_type": "code",
   "execution_count": 4,
   "metadata": {},
   "outputs": [
    {
     "data": {
      "text/plain": [
       "<xarray.DataArray (time: 55)>\n",
       "array([ 2.049015e-01, -1.500204e-01, -6.910400e-03, -2.048993e-01,\n",
       "       -4.110532e-01,  4.449936e-04, -2.063799e-01,  8.628705e-03,\n",
       "       -2.700546e-01, -2.767655e-02, -2.646690e-01, -8.861646e-02,\n",
       "       -4.870388e-01,  4.762607e-02, -1.841712e-01,  3.428996e-02,\n",
       "        1.720702e-01, -2.170771e-01,  4.241526e-01, -1.404080e-01,\n",
       "       -1.012706e-01, -1.272997e-01,  1.484155e-01,  2.192039e-01,\n",
       "       -3.217237e-01, -1.819011e-02,  2.407995e-01,  3.465314e-01,\n",
       "        2.513461e-01, -6.849824e-02, -1.019591e-02, -1.011416e+00,\n",
       "        2.737511e-01,  7.776690e-02, -2.895052e-01,  8.893490e-02,\n",
       "       -2.807038e-01,  1.537548e-01,  5.602983e-01,  5.775268e-01,\n",
       "        1.264659e-01, -8.163092e-02, -3.517645e-01,  5.411058e-01,\n",
       "       -1.147727e-01, -2.002858e-01, -1.892822e-01, -6.241851e-01,\n",
       "       -6.786658e-02, -7.448489e-02, -4.529225e-01, -1.757785e-01,\n",
       "       -1.382956e-04,  6.142747e-01,  1.576083e-01])\n",
       "Coordinates:\n",
       "    item     <U11 'savings'\n",
       "Dimensions without coordinates: time"
      ]
     },
     "execution_count": 4,
     "metadata": {},
     "output_type": "execute_result"
    },
    {
     "data": {
      "text/plain": [
       "<xarray.DataArray (time: 55)>\n",
       "array([ 2.049015e-01, -1.500204e-01, -6.910400e-03, -2.048993e-01,\n",
       "       -4.110532e-01,  4.449936e-04, -2.063799e-01,  8.628705e-03,\n",
       "       -2.700546e-01, -2.767655e-02, -2.646690e-01, -8.861646e-02,\n",
       "       -4.870388e-01,  4.762607e-02, -1.841712e-01,  3.428996e-02,\n",
       "        1.720702e-01, -2.170771e-01,  4.241526e-01, -1.404080e-01,\n",
       "       -1.012706e-01, -1.272997e-01,  1.484155e-01,  2.192039e-01,\n",
       "       -3.217237e-01, -1.819011e-02,  2.407995e-01,  3.465314e-01,\n",
       "        2.513461e-01, -6.849824e-02, -1.019591e-02, -1.011416e+00,\n",
       "        2.737511e-01,  7.776690e-02, -2.895052e-01,  8.893490e-02,\n",
       "       -2.807038e-01,  1.537548e-01,  5.602983e-01,  5.775268e-01,\n",
       "        1.264659e-01, -8.163092e-02, -3.517645e-01,  5.411058e-01,\n",
       "       -1.147727e-01, -2.002858e-01, -1.892822e-01, -6.241851e-01,\n",
       "       -6.786658e-02, -7.448489e-02, -4.529225e-01, -1.757785e-01,\n",
       "       -1.382956e-04,  6.142747e-01,  1.576083e-01])\n",
       "Coordinates:\n",
       "    item     <U11 'savings'\n",
       "Dimensions without coordinates: time"
      ]
     },
     "execution_count": 4,
     "metadata": {},
     "output_type": "execute_result"
    }
   ],
   "source": [
    "income.sel(item=\"savings\").mean(\"cohort\")\n",
    "# An alternative -- income.loc[:,:,\"savings\"].mean(\"cohort\")\n",
    "income[:,:,1].mean(axis=1) # but note that the numpy syntax still works with a DataArray object"
   ]
  },
  {
   "cell_type": "markdown",
   "metadata": {},
   "source": [
    "Pandas-like syntax makes the intention of operations clear"
   ]
  },
  {
   "cell_type": "code",
   "execution_count": 165,
   "metadata": {},
   "outputs": [
    {
     "data": {
      "text/plain": [
       "<xarray.DataArray (item: 2)>\n",
       "array([-0.013371,  0.006306])\n",
       "Coordinates:\n",
       "  * item     (item) <U11 'consumption' 'savings'"
      ]
     },
     "execution_count": 165,
     "metadata": {},
     "output_type": "execute_result"
    },
    {
     "data": {
      "text/plain": [
       "<xarray.DataArray (item: 2)>\n",
       "array([-0.013371,  0.006306])\n",
       "Coordinates:\n",
       "  * item     (item) <U11 'consumption' 'savings'"
      ]
     },
     "execution_count": 165,
     "metadata": {},
     "output_type": "execute_result"
    }
   ],
   "source": [
    "income.groupby(\"item\").mean()\n",
    "income.mean(axis=(0,1))"
   ]
  },
  {
   "cell_type": "markdown",
   "metadata": {},
   "source": [
    "But we still get the broadcasting benefits of numpy arrays... except without worrying about shapes"
   ]
  },
  {
   "cell_type": "code",
   "execution_count": 9,
   "metadata": {},
   "outputs": [
    {
     "data": {
      "text/plain": [
       "(55, 12, 2)"
      ]
     },
     "execution_count": 9,
     "metadata": {},
     "output_type": "execute_result"
    },
    {
     "data": {
      "text/plain": [
       "(55, 2, 12)"
      ]
     },
     "execution_count": 9,
     "metadata": {},
     "output_type": "execute_result"
    },
    {
     "data": {
      "text/plain": [
       "<xarray.DataArray (time: 55, cohort: 12, item: 2)>\n",
       "array([[[ 3.202512e-04, -8.847250e-01],\n",
       "        [ 9.487290e-01,  6.831409e-03],\n",
       "        ...,\n",
       "        [ 4.582729e-01,  1.484235e-01],\n",
       "        [ 7.324769e-01, -3.675171e-01]],\n",
       "\n",
       "       [[ 6.672245e-02,  2.305614e-01],\n",
       "        [ 6.711112e-02,  1.611101e-01],\n",
       "        ...,\n",
       "        [-1.056175e-01, -8.822694e-01],\n",
       "        [-3.000610e-01,  1.505815e+00]],\n",
       "\n",
       "       ...,\n",
       "\n",
       "       [[-8.716453e+00,  1.897045e-01],\n",
       "        [-1.488331e-01, -1.688854e+00],\n",
       "        ...,\n",
       "        [-1.262049e-01,  6.951389e-01],\n",
       "        [ 4.767304e-01, -1.903129e+00]],\n",
       "\n",
       "       [[ 9.055891e-01, -2.888493e-01],\n",
       "        [-7.419514e-02, -2.220506e+00],\n",
       "        ...,\n",
       "        [-2.357175e-01, -9.338105e-01],\n",
       "        [ 3.883903e-01,  1.087652e+00]]])\n",
       "Dimensions without coordinates: time, cohort, item"
      ]
     },
     "execution_count": 9,
     "metadata": {},
     "output_type": "execute_result"
    },
    {
     "ename": "ValueError",
     "evalue": "operands could not be broadcast together with shapes (55,12,2) (55,2,12) ",
     "output_type": "error",
     "traceback": [
      "\u001b[0;31m---------------------------------------------------------------------------\u001b[0m",
      "\u001b[0;31mValueError\u001b[0m                                Traceback (most recent call last)",
      "\u001b[0;32m<ipython-input-9-b6ef4b1c536d>\u001b[0m in \u001b[0;36m<module>\u001b[0;34m\u001b[0m\n\u001b[1;32m      9\u001b[0m \u001b[0;31m# price = np.random.normal(0,1,(lifespan, cohorts, items))\u001b[0m\u001b[0;34m\u001b[0m\u001b[0;34m\u001b[0m\u001b[0;34m\u001b[0m\u001b[0m\n\u001b[1;32m     10\u001b[0m \u001b[0;31m# quantity = np.random.normal(0,1,(lifespan, items, cohorts))\u001b[0m\u001b[0;34m\u001b[0m\u001b[0;34m\u001b[0m\u001b[0;34m\u001b[0m\u001b[0m\n\u001b[0;32m---> 11\u001b[0;31m \u001b[0mvalue\u001b[0m \u001b[0;34m=\u001b[0m \u001b[0mprice\u001b[0m\u001b[0;34m.\u001b[0m\u001b[0mvalues\u001b[0m \u001b[0;34m*\u001b[0m \u001b[0mquantity\u001b[0m\u001b[0;34m.\u001b[0m\u001b[0mvalues\u001b[0m \u001b[0;31m# fails\u001b[0m\u001b[0;34m\u001b[0m\u001b[0;34m\u001b[0m\u001b[0m\n\u001b[0m",
      "\u001b[0;31mValueError\u001b[0m: operands could not be broadcast together with shapes (55,12,2) (55,2,12) "
     ]
    }
   ],
   "source": [
    "# We want to broadcast these arrays but their dimensions are in different orders\n",
    "price = xr.DataArray(np.random.normal(0,1,(lifespan, cohorts, items)), dims=[\"time\",\"cohort\",\"item\"])\n",
    "quantity = xr.DataArray(np.random.normal(0,1,(lifespan, items, cohorts)), dims=[\"time\",\"item\", \"cohort\"])\n",
    "value = price * quantity # works because we have labeled dimensions\n",
    "\n",
    "price.shape\n",
    "quantity.shape\n",
    "value\n",
    "\n",
    "value = price.values * quantity.values # fails"
   ]
  },
  {
   "cell_type": "code",
   "execution_count": 11,
   "metadata": {},
   "outputs": [
    {
     "data": {
      "text/plain": [
       "<xarray.DataArray (time: 55, cohort: 12, item: 2)>\n",
       "array([[[ 0.858597,  0.805802],\n",
       "        [-0.941768, -0.551231],\n",
       "        ...,\n",
       "        [ 0.148553, -0.010453],\n",
       "        [-0.405843,  1.924502]],\n",
       "\n",
       "       [[-2.498655,  0.041238],\n",
       "        [-0.060757, -0.117822],\n",
       "        ...,\n",
       "        [-0.440705,  0.062622],\n",
       "        [-0.526227, -0.056606]],\n",
       "\n",
       "       ...,\n",
       "\n",
       "       [[ 0.283607,  0.433963],\n",
       "        [-0.613919,  0.407582],\n",
       "        ...,\n",
       "        [-0.196753, -1.084495],\n",
       "        [ 1.147532, -0.389884]],\n",
       "\n",
       "       [[ 0.413355, -0.037405],\n",
       "        [ 1.870022, -0.298198],\n",
       "        ...,\n",
       "        [ 1.254369,  1.346237],\n",
       "        [-1.731972, -0.03765 ]]])\n",
       "Coordinates:\n",
       "  * item     (item) <U11 'consumption' 'savings'\n",
       "Dimensions without coordinates: time, cohort"
      ]
     },
     "execution_count": 11,
     "metadata": {},
     "output_type": "execute_result"
    },
    {
     "data": {
      "text/plain": [
       "array([[[ 0.85859715,  0.80580242],\n",
       "        [-0.94176843, -0.55123084],\n",
       "        [ 0.69637537,  1.36375417],\n",
       "        ...,\n",
       "        [-1.79869726, -1.32846242],\n",
       "        [ 0.14855308, -0.01045296],\n",
       "        [-0.4058435 ,  1.92450172]],\n",
       "\n",
       "       [[-2.49865504,  0.04123793],\n",
       "        [-0.06075683, -0.1178218 ],\n",
       "        [ 1.1177054 , -1.29462919],\n",
       "        ...,\n",
       "        [ 1.71076806, -0.58373617],\n",
       "        [-0.44070506,  0.06262156],\n",
       "        [-0.52622727, -0.05660631]],\n",
       "\n",
       "       [[ 0.67168269,  0.09760732],\n",
       "        [-1.34703648,  1.3188391 ],\n",
       "        [ 0.28481107, -1.04532128],\n",
       "        ...,\n",
       "        [ 0.95378183,  0.75702923],\n",
       "        [ 0.64234387,  0.08348674],\n",
       "        [ 1.67267935,  0.28837676]],\n",
       "\n",
       "       ...,\n",
       "\n",
       "       [[-1.4334678 ,  0.93918592],\n",
       "        [ 0.19358499,  0.15119702],\n",
       "        [-0.6154556 , -0.42888821],\n",
       "        ...,\n",
       "        [ 0.55380427,  0.90094897],\n",
       "        [ 2.0311323 , -0.57459321],\n",
       "        [ 0.00347043, -1.81666729]],\n",
       "\n",
       "       [[ 0.2836075 ,  0.43396276],\n",
       "        [-0.61391902,  0.40758154],\n",
       "        [-0.48256448, -0.15691237],\n",
       "        ...,\n",
       "        [ 2.13364019,  0.24004395],\n",
       "        [-0.19675255, -1.08449549],\n",
       "        [ 1.14753201, -0.3898838 ]],\n",
       "\n",
       "       [[ 0.41335451, -0.03740476],\n",
       "        [ 1.87002195, -0.2981975 ],\n",
       "        [ 3.10529798, -2.67260377],\n",
       "        ...,\n",
       "        [-0.30860105, -0.10721609],\n",
       "        [ 1.25436924,  1.34623667],\n",
       "        [-1.7319723 , -0.03764988]]])"
      ]
     },
     "execution_count": 11,
     "metadata": {},
     "output_type": "execute_result"
    }
   ],
   "source": [
    "# One more example of broadcasting \n",
    "income - income.mean(\"cohort\")\n",
    "income.values - income.values.mean(axis=1, keepdims=True) # What is axis 1? Why do we have to use keepdims?"
   ]
  },
  {
   "cell_type": "markdown",
   "metadata": {},
   "source": [
    "### Dataset\n",
    "\n",
    "xarray also has an extension of the pandas dataframe that's supposed to be useful in mutlidimensional data cases, but I haven't worked with it."
   ]
  },
  {
   "cell_type": "code",
   "execution_count": null,
   "metadata": {},
   "outputs": [],
   "source": []
  }
 ],
 "metadata": {
  "kernelspec": {
   "display_name": "Python 3",
   "language": "python",
   "name": "python3"
  },
  "language_info": {
   "codemirror_mode": {
    "name": "ipython",
    "version": 3
   },
   "file_extension": ".py",
   "mimetype": "text/x-python",
   "name": "python",
   "nbconvert_exporter": "python",
   "pygments_lexer": "ipython3",
   "version": "3.7.3"
  }
 },
 "nbformat": 4,
 "nbformat_minor": 2
}
